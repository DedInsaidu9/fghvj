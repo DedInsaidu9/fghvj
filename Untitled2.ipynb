{
 "cells": [
  {
   "cell_type": "code",
   "execution_count": 12,
   "id": "a9328a66",
   "metadata": {},
   "outputs": [
    {
     "ename": "NameError",
     "evalue": "name 'previous_block' is not defined",
     "output_type": "error",
     "traceback": [
      "\u001b[1;31m---------------------------------------------------------------------------\u001b[0m",
      "\u001b[1;31mNameError\u001b[0m                                 Traceback (most recent call last)",
      "Cell \u001b[1;32mIn[12], line 45\u001b[0m\n\u001b[0;32m     43\u001b[0m wrong_blockchain\u001b[38;5;241m.\u001b[39madd_block(block3)\n\u001b[0;32m     44\u001b[0m block2\u001b[38;5;241m.\u001b[39mdata \u001b[38;5;241m=\u001b[39m {\u001b[38;5;124m\"\u001b[39m\u001b[38;5;124mdata\u001b[39m\u001b[38;5;124m\"\u001b[39m:\u001b[38;5;124m\"\u001b[39m\u001b[38;5;124mNo Transaction\u001b[39m\u001b[38;5;124m\"\u001b[39m}\n\u001b[1;32m---> 45\u001b[0m \u001b[38;5;28mprint\u001b[39m(wrong_blockchain\u001b[38;5;241m.\u001b[39mis_chain_valid())\n\u001b[0;32m     47\u001b[0m \u001b[38;5;28;01mfor\u001b[39;00m block \u001b[38;5;129;01min\u001b[39;00m demo_blockchain\u001b[38;5;241m.\u001b[39mchain:\n\u001b[0;32m     48\u001b[0m     \u001b[38;5;28mprint\u001b[39m(\u001b[38;5;124m\"\u001b[39m\u001b[38;5;124mdata: \u001b[39m\u001b[38;5;124m\"\u001b[39m,block\u001b[38;5;241m.\u001b[39mdata)\n",
      "Cell \u001b[1;32mIn[12], line 30\u001b[0m, in \u001b[0;36mBlockchain.is_chain_valid\u001b[1;34m(self)\u001b[0m\n\u001b[0;32m     28\u001b[0m     \u001b[38;5;28;01mif\u001b[39;00m current_block\u001b[38;5;241m.\u001b[39mhash \u001b[38;5;241m!=\u001b[39m current_block\u001b[38;5;241m.\u001b[39mcalculate_hash():\n\u001b[0;32m     29\u001b[0m         \u001b[38;5;28;01mreturn\u001b[39;00m \u001b[38;5;28;01mFalse\u001b[39;00m\n\u001b[1;32m---> 30\u001b[0m     \u001b[38;5;28;01mif\u001b[39;00m current_block\u001b[38;5;241m.\u001b[39mprevious_hash \u001b[38;5;241m!=\u001b[39m previous_block\u001b[38;5;241m.\u001b[39mhash():\n\u001b[0;32m     31\u001b[0m         \u001b[38;5;28;01mreturn\u001b[39;00m \u001b[38;5;28;01mFalse\u001b[39;00m\n\u001b[0;32m     32\u001b[0m \u001b[38;5;28;01mreturn\u001b[39;00m \u001b[38;5;28;01mTrue\u001b[39;00m\n",
      "\u001b[1;31mNameError\u001b[0m: name 'previous_block' is not defined"
     ]
    }
   ],
   "source": [
    "import hashlib\n",
    "import datetime\n",
    "\n",
    "class Block:\n",
    "    def __init__(self, timestamp, data, previous_hash):\n",
    "        self.timestamp = timestamp\n",
    "        self.previous_hash = previous_hash\n",
    "        self.data = data\n",
    "        self.hash = self.calculate_hash()\n",
    "        \n",
    "    def calculate_hash(self):\n",
    "        hash_string = str(self.timestamp) + str(self.data) + str(self.previous_hash)\n",
    "        return hashlib.sha256(hash_string.encode()).hexdigest()\n",
    "\n",
    "class Blockchain:\n",
    "    def __init__(self):\n",
    "        self.chain = [self.create_genesis_block()]\n",
    "    def create_genesis_block(self):\n",
    "        return Block(datetime.datetime.now(),\"Genesis Block\",\"0\")\n",
    "    def add_block(self, new_block):\n",
    "        new_block.previous_hash = self.chain[-1].hash\n",
    "        new_block.hash = new_block.calculate_hash()\n",
    "        self.chain.append(new_block)\n",
    "    def is_chain_valid(self):\n",
    "        for i in range(1, len(self.chain)):\n",
    "            current_block = self.chain[i]\n",
    "            previous_hash = self.chain[i-1]\n",
    "            if current_block.hash != current_block.calculate_hash():\n",
    "                return False\n",
    "            if current_block.previous_hash != previous_block.hash:\n",
    "                return False\n",
    "        return True\n",
    "demo_blockchain = Blockchain()\n",
    "demo_blockchain.add_block(Block(datetime.datetime.now(),{\"data\":\"Transaction1\"}, \"\"))\n",
    "demo_blockchain.add_block(Block(datetime.datetime.now(),{\"data\":\"Transaction2\"}, \"\"))\n",
    "demo_blockchain.add_block(Block(datetime.datetime.now(),{\"data\":\"Transaction3\"}, \"\"))\n",
    "wrong_blockchain = Blockchain()\n",
    "block1 = Block(datetime.datetime.now(),{\"data\":\"Transaction1\"}, \"\")\n",
    "block2 = Block(datetime.datetime.now(),{\"data\":\"Transaction2\"}, \"\")\n",
    "block3 = Block(datetime.datetime.now(),{\"data\":\"Transaction3\"}, \"\")\n",
    "wrong_blockchain.add_block(block1)\n",
    "wrong_blockchain.add_block(block2)\n",
    "wrong_blockchain.add_block(block3)\n",
    "block2.data = {\"data\":\"No Transaction\"}\n",
    "print(wrong_blockchain.is_chain_valid())\n",
    "\n",
    "for block in demo_blockchain.chain:\n",
    "    print(\"data: \",block.data)\n",
    "    print(\"Timestamp: \",block.timestamp)\n",
    "    print(\"Hash: \",block.hash)\n",
    "    print(\"Хэш предыдущего блока: \",block.previous_hash)\n",
    "    print()\n",
    "print(\"Цепочка валидна?\", demo_blockchain.is_chain_valid())"
   ]
  },
  {
   "cell_type": "code",
   "execution_count": null,
   "id": "21881aff",
   "metadata": {},
   "outputs": [],
   "source": []
  }
 ],
 "metadata": {
  "kernelspec": {
   "display_name": "Python 3 (ipykernel)",
   "language": "python",
   "name": "python3"
  },
  "language_info": {
   "codemirror_mode": {
    "name": "ipython",
    "version": 3
   },
   "file_extension": ".py",
   "mimetype": "text/x-python",
   "name": "python",
   "nbconvert_exporter": "python",
   "pygments_lexer": "ipython3",
   "version": "3.11.5"
  }
 },
 "nbformat": 4,
 "nbformat_minor": 5
}
